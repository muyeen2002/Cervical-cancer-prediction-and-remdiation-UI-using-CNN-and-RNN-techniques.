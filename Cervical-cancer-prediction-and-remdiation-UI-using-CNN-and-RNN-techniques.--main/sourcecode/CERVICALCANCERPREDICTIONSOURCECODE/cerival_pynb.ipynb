{
  "cells": [
    {
      "cell_type": "code",
      "execution_count": 1,
      "metadata": {
        "id": "z_8gLju-eHwr"
      },
      "outputs": [],
      "source": [
        "# This Python 3 environment comes with many helpful analytics libraries installed\n",
        "# It is defined by the kaggle/python Docker image: https://github.com/kaggle/docker-python\n",
        "# For example, here's several helpful packages to load\n",
        "\n",
        "# import the necessary packages\n",
        "\n",
        "import tensorflow as tf\n",
        "import cv2\n",
        "\n",
        "from sklearn.preprocessing import LabelEncoder\n",
        "from keras.applications.resnet import ResNet50\n",
        "from keras.applications.densenet import DenseNet121\n",
        "from keras.applications.efficientnet import EfficientNetB5\n",
        "from keras.applications import imagenet_utils\n",
        "import numpy as np\n",
        "import pickle\n",
        "import os\n",
        "\n",
        "import matplotlib.pyplot as plt\n",
        "from PIL import Image\n",
        "\n",
        "import warnings\n",
        "warnings.filterwarnings(\"ignore\")\n",
        "\n",
        "# Input data files are available in the read-only \"../input/\" directory\n",
        "# For example, running this (by clicking run or pressing Shift+Enter) will list all files under the input directory\n",
        "\n",
        "import os\n",
        "for dirname, _, filenames in os.walk('/kaggle/input'):\n",
        "    for filename in filenames:\n",
        "        paths = os.path.join(dirname, filename)"
      ]
    },
    {
      "cell_type": "code",
      "execution_count": 2,
      "metadata": {
        "colab": {
          "base_uri": "https://localhost:8080/"
        },
        "id": "bJdzjgwFeO25",
        "outputId": "9f53cda8-ec06-42b0-d717-acb0ac2d1c4c"
      },
      "outputs": [
        {
          "name": "stdout",
          "output_type": "stream",
          "text": [
            "Requirement already satisfied: kaggle in c:\\users\\dell\\appdata\\local\\programs\\python\\python312\\lib\\site-packages (1.6.12)\n",
            "Requirement already satisfied: six>=1.10 in c:\\users\\dell\\appdata\\local\\programs\\python\\python312\\lib\\site-packages (from kaggle) (1.16.0)\n",
            "Requirement already satisfied: certifi>=2023.7.22 in c:\\users\\dell\\appdata\\local\\programs\\python\\python312\\lib\\site-packages (from kaggle) (2024.2.2)\n",
            "Requirement already satisfied: python-dateutil in c:\\users\\dell\\appdata\\local\\programs\\python\\python312\\lib\\site-packages (from kaggle) (2.9.0.post0)\n",
            "Requirement already satisfied: requests in c:\\users\\dell\\appdata\\local\\programs\\python\\python312\\lib\\site-packages (from kaggle) (2.31.0)\n",
            "Requirement already satisfied: tqdm in c:\\users\\dell\\appdata\\local\\programs\\python\\python312\\lib\\site-packages (from kaggle) (4.66.2)\n",
            "Requirement already satisfied: python-slugify in c:\\users\\dell\\appdata\\local\\programs\\python\\python312\\lib\\site-packages (from kaggle) (8.0.4)\n",
            "Requirement already satisfied: urllib3 in c:\\users\\dell\\appdata\\local\\programs\\python\\python312\\lib\\site-packages (from kaggle) (2.2.1)\n",
            "Requirement already satisfied: bleach in c:\\users\\dell\\appdata\\local\\programs\\python\\python312\\lib\\site-packages (from kaggle) (6.1.0)\n",
            "Requirement already satisfied: webencodings in c:\\users\\dell\\appdata\\local\\programs\\python\\python312\\lib\\site-packages (from bleach->kaggle) (0.5.1)\n",
            "Requirement already satisfied: text-unidecode>=1.3 in c:\\users\\dell\\appdata\\local\\programs\\python\\python312\\lib\\site-packages (from python-slugify->kaggle) (1.3)\n",
            "Requirement already satisfied: charset-normalizer<4,>=2 in c:\\users\\dell\\appdata\\local\\programs\\python\\python312\\lib\\site-packages (from requests->kaggle) (3.3.2)\n",
            "Requirement already satisfied: idna<4,>=2.5 in c:\\users\\dell\\appdata\\local\\programs\\python\\python312\\lib\\site-packages (from requests->kaggle) (3.7)\n",
            "Requirement already satisfied: colorama in c:\\users\\dell\\appdata\\local\\programs\\python\\python312\\lib\\site-packages (from tqdm->kaggle) (0.4.6)\n",
            "Note: you may need to restart the kernel to use updated packages.\n"
          ]
        }
      ],
      "source": [
        "pip install kaggle"
      ]
    },
    {
      "cell_type": "code",
      "execution_count": 3,
      "metadata": {
        "colab": {
          "base_uri": "https://localhost:8080/"
        },
        "id": "z_CpHTsaeR8l",
        "outputId": "f39a4890-5776-408a-ac97-e383cc714365"
      },
      "outputs": [
        {
          "ename": "ModuleNotFoundError",
          "evalue": "No module named 'google.colab'",
          "output_type": "error",
          "traceback": [
            "\u001b[1;31m---------------------------------------------------------------------------\u001b[0m",
            "\u001b[1;31mModuleNotFoundError\u001b[0m                       Traceback (most recent call last)",
            "Cell \u001b[1;32mIn[3], line 4\u001b[0m\n\u001b[0;32m      2\u001b[0m \u001b[38;5;28;01mimport\u001b[39;00m \u001b[38;5;21;01mos\u001b[39;00m\n\u001b[0;32m      3\u001b[0m \u001b[38;5;28;01mif\u001b[39;00m \u001b[38;5;129;01mnot\u001b[39;00m os\u001b[38;5;241m.\u001b[39mpath\u001b[38;5;241m.\u001b[39misfile(os\u001b[38;5;241m.\u001b[39mpath\u001b[38;5;241m.\u001b[39mexpanduser(\u001b[38;5;124m'\u001b[39m\u001b[38;5;124m~/.kaggle/kaggle.json\u001b[39m\u001b[38;5;124m'\u001b[39m)):\n\u001b[1;32m----> 4\u001b[0m   \u001b[38;5;28;01mfrom\u001b[39;00m \u001b[38;5;21;01mgoogle\u001b[39;00m\u001b[38;5;21;01m.\u001b[39;00m\u001b[38;5;21;01mcolab\u001b[39;00m \u001b[38;5;28;01mimport\u001b[39;00m files\n\u001b[0;32m      5\u001b[0m   \u001b[38;5;28mprint\u001b[39m(\u001b[38;5;124m\"\u001b[39m\u001b[38;5;124mUpload kaggle.json here\u001b[39m\u001b[38;5;124m\"\u001b[39m)\n\u001b[0;32m      6\u001b[0m   files\u001b[38;5;241m.\u001b[39mupload()\n",
            "\u001b[1;31mModuleNotFoundError\u001b[0m: No module named 'google.colab'"
          ]
        }
      ],
      "source": [
        "! pip install -q kaggle\n",
        "import os\n",
        "if not os.path.isfile(os.path.expanduser('~/.kaggle/kaggle.json')):\n",
        "  from google.colab import files\n",
        "  print(\"Upload kaggle.json here\")\n",
        "  files.upload()\n",
        "\n",
        "if not os.path.isfile('IMDB Dataset.csv'):\n",
        "  !mkdir ~/.kaggle\n",
        "  !mv ./kaggle.json ~/.kaggle/\n",
        "  !chmod 600 ~/.kaggle/kaggle.json\n",
        "\n",
        "  dataset_name = 'prahladmehandiratta/cervical-cancer-largest-dataset-sipakmed'\n",
        "  zip_name = dataset_name.split('/')[-1]\n",
        "\n",
        "  !kaggle datasets download -d {dataset_name}\n",
        "  !unzip -q ./{zip_name}.zip -d ."
      ]
    },
    {
      "cell_type": "code",
      "execution_count": null,
      "metadata": {
        "colab": {
          "base_uri": "https://localhost:8080/"
        },
        "id": "sjVCk9pKe1un",
        "outputId": "79e00e37-c513-40fc-9bf5-3b9c9682a0ba"
      },
      "outputs": [
        {
          "name": "stdout",
          "output_type": "stream",
          "text": [
            "(4049, 64, 64, 3)\n",
            "(4049,)\n",
            "[0 0 0 ... 4 4 4]\n"
          ]
        }
      ],
      "source": [
        "data=[]\n",
        "labels=[]\n",
        "\n",
        "height = 64\n",
        "width = 64\n",
        "channels = 3\n",
        "classes = 43\n",
        "n_inputs = height * width * channels\n",
        "\n",
        "path1 = \"/content/im_Dyskeratotic/im_Dyskeratotic/CROPPED/\"\n",
        "path2 = \"/content/im_Koilocytotic/im_Koilocytotic/CROPPED/\"\n",
        "path3 = \"/content/im_Metaplastic/im_Metaplastic/CROPPED/\"\n",
        "path4 = \"/content/im_Parabasal/im_Parabasal/CROPPED/\"\n",
        "path5 = \"/content/im_Superficial-Intermediate/im_Superficial-Intermediate/CROPPED/\"\n",
        "\n",
        "path = [path1, path2, path3, path4, path5]\n",
        "\n",
        "#print(Class)\n",
        "i = 0\n",
        "for p in path:\n",
        "    Class=os.listdir(p)\n",
        "    for a in Class:\n",
        "        if(a[-1] == 'p'):\n",
        "            labels.append(i)\n",
        "            try:\n",
        "                image=cv2.imread(p+a)\n",
        "                image_from_array = Image.fromarray(image, 'RGB')\n",
        "                size_image = image_from_array.resize((height, width))\n",
        "                data.append(np.array(size_image))\n",
        "            except AttributeError:\n",
        "                print(\" \")\n",
        "    i+=1\n",
        "\n",
        "# Converting data to ndarray -\n",
        "labels = np.array(labels)\n",
        "data = np.array(data)\n",
        "\n",
        "print(data.shape)\n",
        "print(labels.shape)\n",
        "print(labels)\n",
        "\n",
        "# Randomize the order of the input images\n",
        "s = np.arange(data.shape[0])\n",
        "np.random.seed(43)\n",
        "np.random.shuffle(s)\n",
        "data = data[s]\n",
        "labels = labels[s]"
      ]
    },
    {
      "cell_type": "code",
      "execution_count": null,
      "metadata": {
        "colab": {
          "base_uri": "https://localhost:8080/",
          "height": 452
        },
        "id": "yG_n-PJugfyx",
        "outputId": "dbed7b21-cee7-4258-f8c7-ca5dd217c949"
      },
      "outputs": [
        {
          "data": {
            "image/png": "[encoded data removed]",
            "text/plain": [
              "<Figure size 640x480 with 1 Axes>"
            ]
          },
          "metadata": {},
          "output_type": "display_data"
        }
      ],
      "source": [
        "categories = [\"Dyskeratotic\", \"Koilocytotic\", \"Metaplastic\", \"Parabasal\", \"Superficial-Intermediate\"]\n",
        "\n",
        "def show_the_image(i):\n",
        "    plt.imshow(data[i])\n",
        "    plt.xlabel(categories[labels[i]])\n",
        "\n",
        "show_the_image(0)"
      ]
    },
    {
      "cell_type": "code",
      "execution_count": null,
      "metadata": {
        "colab": {
          "base_uri": "https://localhost:8080/"
        },
        "id": "iA6hojK0ljsd",
        "outputId": "355bb089-2eee-4991-c794-a075a9bb4c34"
      },
      "outputs": [
        {
          "name": "stdout",
          "output_type": "stream",
          "text": [
            "Downloading data from https://storage.googleapis.com/tensorflow/keras-applications/resnet/resnet50_weights_tf_dim_ordering_tf_kernels_notop.h5\n",
            "94765736/94765736 [==============================] - 1s 0us/step\n",
            "Downloading data from https://storage.googleapis.com/tensorflow/keras-applications/densenet/densenet121_weights_tf_dim_ordering_tf_kernels_notop.h5\n",
            "29084464/29084464 [==============================] - 0s 0us/step\n",
            "Downloading data from https://storage.googleapis.com/keras-applications/efficientnetb5_notop.h5\n",
            "115263384/115263384 [==============================] - 1s 0us/step\n",
            "127/127 [==============================] - 70s 545ms/step\n",
            "127/127 [==============================] - 61s 454ms/step\n",
            "127/127 [==============================] - 48s 380ms/step\n",
            "(4049, 2, 2, 2048)\n",
            "(4049, 2, 2, 1024)\n",
            "(4049, 2, 2, 1024)\n"
          ]
        }
      ],
      "source": [
        "# Loading ResNet50 wit imagenet weights, include_top means that we loading model without last fully connected layers\n",
        "model_resnet       = ResNet50(weights = 'imagenet', include_top = False)\n",
        "model_densenet     = DenseNet121(weights = 'imagenet', include_top = False)\n",
        "model_efficientnet = EfficientNetB5(weights = 'imagenet', include_top = False)\n",
        "\n",
        "features_resnet       = model_resnet.predict(data, batch_size=32)\n",
        "features_densenet     = model_densenet.predict(data, batch_size=32)\n",
        "features_efficientnet = model_densenet.predict(data, batch_size=32)\n",
        "\n",
        "print(features_resnet.shape)\n",
        "print(features_densenet.shape)\n",
        "print(features_efficientnet.shape)"
      ]
    },
    {
      "cell_type": "code",
      "execution_count": null,
      "metadata": {
        "colab": {
          "base_uri": "https://localhost:8080/"
        },
        "id": "_EE7E2l5m9y5",
        "outputId": "e79f4262-787c-4bd3-f8bf-2702db6a8a20"
      },
      "outputs": [
        {
          "name": "stdout",
          "output_type": "stream",
          "text": [
            "(4049, 16385)\n"
          ]
        }
      ],
      "source": [
        "extracted_features = []\n",
        "\n",
        "# for feature, label in zip(features, labels):\n",
        "#     feature = feature.reshape(32768)\n",
        "#     feature = np.append(feature, label)\n",
        "#     extracted_features.append(feature)\n",
        "\n",
        "# extracted_features = np.array(extracted_features)\n",
        "\n",
        "# print(extracted_features)\n",
        "\n",
        "\n",
        "for f_r, f_d, f_e, label in zip(features_resnet, features_densenet, features_efficientnet, labels):\n",
        "    f_r = f_r.reshape(f_r.shape[0] * f_r.shape[1] * f_r.shape[2])\n",
        "    f_d = f_d.reshape(f_d.shape[0] * f_d.shape[1] * f_d.shape[2])\n",
        "    f_e = f_e.reshape(f_e.shape[0] * f_e.shape[1] * f_e.shape[2])\n",
        "\n",
        "    f_r = np.append(f_r, f_d)\n",
        "    f_r = np.append(f_r, f_e)\n",
        "    f_r = np.append(f_r, label)\n",
        "    extracted_features.append(f_r)\n",
        "\n",
        "extracted_features = np.array(extracted_features)\n",
        "\n",
        "print(extracted_features.shape)"
      ]
    },
    {
      "cell_type": "code",
      "execution_count": null,
      "metadata": {
        "id": "cGkci1tJnA3d"
      },
      "outputs": [],
      "source": [
        "from sklearn.preprocessing import StandardScaler\n",
        "from sklearn.preprocessing import MinMaxScaler\n",
        "from sklearn.decomposition import PCA\n",
        "from sklearn.model_selection import train_test_split"
      ]
    },
    {
      "cell_type": "code",
      "execution_count": null,
      "metadata": {
        "id": "bhm3h0InnEdN"
      },
      "outputs": [],
      "source": [
        "# # Normalization :-\n",
        "\n",
        "X = extracted_features[:, 0:-1]\n",
        "y = extracted_features[:, -1]\n",
        "\n",
        "# scaler = StandardScaler()\n",
        "# scaler.fit(X)\n",
        "# scaled_X = scaler.transform(X)\n",
        "\n",
        "scaler = MinMaxScaler()\n",
        "scaled_X = scaler.fit_transform(X)"
      ]
    },
    {
      "cell_type": "code",
      "execution_count": null,
      "metadata": {
        "id": "n92auLMfnHUe"
      },
      "outputs": [],
      "source": [
        "# PCA :-\n",
        "\n",
        "pca = PCA(n_components = 0.95)\n",
        "pca.fit(scaled_X)\n",
        "principal_X = pca.transform(scaled_X)"
      ]
    },
    {
      "cell_type": "code",
      "execution_count": null,
      "metadata": {
        "colab": {
          "base_uri": "https://localhost:8080/"
        },
        "id": "D3xiov5dnLUM",
        "outputId": "e0318c8a-d0e5-41ea-8e69-59e334604480"
      },
      "outputs": [
        {
          "name": "stdout",
          "output_type": "stream",
          "text": [
            "1376\n",
            "[1.58362223e-01 9.56092657e-02 4.11948229e-02 ... 5.54878855e-05\n",
            " 5.54254227e-05 5.53718589e-05]\n"
          ]
        }
      ],
      "source": [
        "# Check the values of eigen vectors prodeced by principal components\n",
        "print(len(pca.components_))\n",
        "\n",
        "# check how much variance is explained by each principal component\n",
        "\n",
        "print(pca.explained_variance_ratio_)"
      ]
    },
    {
      "cell_type": "code",
      "execution_count": null,
      "metadata": {
        "colab": {
          "base_uri": "https://localhost:8080/"
        },
        "id": "T7EdYdSznQdn",
        "outputId": "23aee583-9704-4381-bbf3-fce9c30f2403"
      },
      "outputs": [
        {
          "name": "stdout",
          "output_type": "stream",
          "text": [
            "(3239, 1376)\n",
            "(810, 1376)\n",
            "(3239,)\n",
            "(810,)\n"
          ]
        }
      ],
      "source": [
        "\n",
        "X_train, X_test, y_train, y_test = train_test_split(principal_X, y, test_size = 0.2, random_state = 1)\n",
        "\n",
        "print(X_train.shape)\n",
        "print(X_test.shape)\n",
        "print(y_train.shape)\n",
        "print(y_test.shape)"
      ]
    },
    {
      "cell_type": "code",
      "execution_count": null,
      "metadata": {
        "id": "rdlzJLnSnVNG"
      },
      "outputs": [],
      "source": [
        "from keras.models import Sequential\n",
        "from keras.layers import Conv2D, MaxPool2D, Dense, Flatten, Dropout\n",
        "\n",
        "model = Sequential()\n",
        "\n",
        "model.add(Flatten(input_shape=(X_train.shape[1], 1)))\n",
        "model.add(Dense(256, activation='relu'))\n",
        "model.add(Dropout(rate=0.5))\n",
        "model.add(Dense(5, activation='softmax'))\n",
        "\n",
        "#Compilation of the model\n",
        "model.compile(\n",
        "    loss='sparse_categorical_crossentropy',\n",
        "    optimizer='adam',\n",
        "    metrics=['accuracy']\n",
        ")"
      ]
    },
    {
      "cell_type": "code",
      "execution_count": null,
      "metadata": {
        "colab": {
          "base_uri": "https://localhost:8080/"
        },
        "id": "gHa-UiC_nYp1",
        "outputId": "ea49410b-4c3f-45cc-fb08-7ebefa3ada80"
      },
      "outputs": [
        {
          "name": "stdout",
          "output_type": "stream",
          "text": [
            "Model: \"sequential\"\n",
            "_________________________________________________________________\n",
            " Layer (type)                Output Shape              Param #   \n",
            "=================================================================\n",
            " flatten (Flatten)           (None, 1376)              0         \n",
            "                                                                 \n",
            " dense (Dense)               (None, 256)               352512    \n",
            "                                                                 \n",
            " dropout (Dropout)           (None, 256)               0         \n",
            "                                                                 \n",
            " dense_1 (Dense)             (None, 5)                 1285      \n",
            "                                                                 \n",
            "=================================================================\n",
            "Total params: 353797 (1.35 MB)\n",
            "Trainable params: 353797 (1.35 MB)\n",
            "Non-trainable params: 0 (0.00 Byte)\n",
            "_________________________________________________________________\n"
          ]
        }
      ],
      "source": [
        "model.summary()"
      ]
    },
    {
      "cell_type": "code",
      "execution_count": null,
      "metadata": {
        "colab": {
          "base_uri": "https://localhost:8080/"
        },
        "id": "y2AzQS7Zna3x",
        "outputId": "f177bc6c-4703-45ac-ebfd-6a5e8826deee"
      },
      "outputs": [
        {
          "name": "stdout",
          "output_type": "stream",
          "text": [
            "Epoch 1/10\n",
            "102/102 [==============================] - 1s 6ms/step - loss: 0.6802 - accuracy: 0.7836\n",
            "Epoch 2/10\n",
            "102/102 [==============================] - 1s 6ms/step - loss: 0.1683 - accuracy: 0.9559\n",
            "Epoch 3/10\n",
            "102/102 [==============================] - 1s 6ms/step - loss: 0.0768 - accuracy: 0.9864\n",
            "Epoch 4/10\n",
            "102/102 [==============================] - 1s 6ms/step - loss: 0.0439 - accuracy: 0.9951\n",
            "Epoch 5/10\n",
            "102/102 [==============================] - 1s 6ms/step - loss: 0.0262 - accuracy: 0.9975\n",
            "Epoch 6/10\n",
            "102/102 [==============================] - 1s 6ms/step - loss: 0.0182 - accuracy: 0.9994\n",
            "Epoch 7/10\n",
            "102/102 [==============================] - 1s 6ms/step - loss: 0.0134 - accuracy: 0.9994\n",
            "Epoch 8/10\n",
            "102/102 [==============================] - 1s 6ms/step - loss: 0.0098 - accuracy: 0.9994\n",
            "Epoch 9/10\n",
            "102/102 [==============================] - 1s 6ms/step - loss: 0.0073 - accuracy: 1.0000\n",
            "Epoch 10/10\n",
            "102/102 [==============================] - 1s 8ms/step - loss: 0.0065 - accuracy: 0.9997\n"
          ]
        }
      ],
      "source": [
        "epochs = 10\n",
        "nn = model.fit(X_train, y_train, batch_size=32, epochs=epochs)"
      ]
    },
    {
      "cell_type": "code",
      "execution_count": null,
      "metadata": {
        "colab": {
          "base_uri": "https://localhost:8080/"
        },
        "id": "MKk8hi21ndyx",
        "outputId": "ae609376-9521-4030-8502-3766cfd7072d"
      },
      "outputs": [
        {
          "name": "stdout",
          "output_type": "stream",
          "text": [
            "26/26 [==============================] - 0s 2ms/step\n",
            "Accuracy is:  94.44444444444444\n"
          ]
        }
      ],
      "source": [
        "pred = model.predict(X_test)\n",
        "y_nn = np.argmax(pred, axis=1)\n",
        "\n",
        "from sklearn.metrics import accuracy_score\n",
        "acc = accuracy_score(y_test, y_nn)\n",
        "print(\"Accuracy is: \", acc*100)"
      ]
    },
    {
      "cell_type": "code",
      "execution_count": null,
      "metadata": {
        "colab": {
          "base_uri": "https://localhost:8080/"
        },
        "id": "NZNvKtYFqdrO",
        "outputId": "576ade07-f7e0-4942-a6a8-5e2d15ff7ec7"
      },
      "outputs": [
        {
          "data": {
            "text/plain": [
              "array([[ 1.14369908e+01,  8.55930175e+00,  1.63270693e+00, ...,\n",
              "         2.59636824e-03,  1.06201682e-01,  8.84941549e-02],\n",
              "       [ 1.02490037e+01,  2.33332463e+00,  2.27644713e-02, ...,\n",
              "        -1.86662821e-01,  1.39583247e-01, -2.15874977e-01],\n",
              "       [-1.06801344e+00, -7.21469150e+00,  6.71514214e-01, ...,\n",
              "         8.91712317e-02,  5.83585900e-02, -7.98491819e-02],\n",
              "       ...,\n",
              "       [-3.33913350e+00, -4.81671014e+00, -2.39702613e+00, ...,\n",
              "        -1.02158264e-01, -2.13601233e-02, -4.20904520e-02],\n",
              "       [ 4.76142803e+00,  9.99338499e+00,  2.99804924e+00, ...,\n",
              "         6.96253681e-02,  5.45696495e-02, -1.98513673e-01],\n",
              "       [-3.75338239e+00,  4.96072556e+00,  2.22900473e+00, ...,\n",
              "        -1.43300204e-01, -1.04099167e-01,  1.04782519e-01]])"
            ]
          },
          "execution_count": 31,
          "metadata": {},
          "output_type": "execute_result"
        }
      ],
      "source": []
    },
    {
      "cell_type": "code",
      "execution_count": null,
      "metadata": {
        "colab": {
          "base_uri": "https://localhost:8080/"
        },
        "id": "uyu1Z_SynlqN",
        "outputId": "31939bbb-431c-4e9e-9948-7f0e8ce2ecfe"
      },
      "outputs": [
        {
          "name": "stdout",
          "output_type": "stream",
          "text": [
            "Classification Report: \n",
            "               precision    recall  f1-score   support\n",
            "\n",
            "         0.0       0.95      0.96      0.96       167\n",
            "         1.0       0.91      0.87      0.89       165\n",
            "         2.0       0.90      0.93      0.92       132\n",
            "         3.0       0.98      0.98      0.98       174\n",
            "         4.0       0.97      0.98      0.97       172\n",
            "\n",
            "    accuracy                           0.94       810\n",
            "   macro avg       0.94      0.94      0.94       810\n",
            "weighted avg       0.94      0.94      0.94       810\n",
            "\n"
          ]
        }
      ],
      "source": [
        "from sklearn.metrics import confusion_matrix, classification_report\n",
        "\n",
        "print(\"Classification Report: \\n\", classification_report(y_test, y_nn))"
      ]
    },
    {
      "cell_type": "code",
      "execution_count": null,
      "metadata": {
        "id": "UmiYzat3pgRE"
      },
      "outputs": [],
      "source": [
        "model.save('cerival.h5')"
      ]
    },
    {
      "cell_type": "code",
      "execution_count": null,
      "metadata": {
        "colab": {
          "base_uri": "https://localhost:8080/"
        },
        "id": "671JxBHTtbzR",
        "outputId": "996a43b3-62ab-46a8-eeec-26ba2dd44583"
      },
      "outputs": [
        {
          "name": "stdout",
          "output_type": "stream",
          "text": [
            "Size of the remaining data does not match the expected size.\n"
          ]
        }
      ],
      "source": [
        "import numpy as np\n",
        "from keras.models import load_model\n",
        "from PIL import Image\n",
        "\n",
        "# Load the saved model\n",
        "loaded_model = load_model('cerival.h5')\n",
        "\n",
        "# Assuming 'new_image_path' is the path to your .dat file\n",
        "new_image_path = '/content/im_Dyskeratotic/im_Dyskeratotic/CROPPED/003_08_nuc.dat'\n",
        "\n",
        "# Load image data from the .dat file (replace this with your custom loader)\n",
        "with open(new_image_path, 'rb') as file:\n",
        "    # Assuming the first two values in the file represent the height and width\n",
        "    height, width = np.fromfile(file, dtype=np.uint32, count=2)\n",
        "\n",
        "    # The remaining values are assumed to be the image data\n",
        "    remaining_data = np.fromfile(file, dtype=np.uint8)\n",
        "\n",
        "# Calculate the expected size of the image data based on the height, width, and channels\n",
        "channels = 3  # Assuming RGB color channels\n",
        "expected_size = height * width * channels\n",
        "\n",
        "# Check if the size of the remaining data matches the expected size\n",
        "if remaining_data.size == expected_size:\n",
        "    # Reshape the data to the desired image dimensions\n",
        "    image_data = remaining_data.reshape((height, width, channels))\n",
        "\n",
        "    # Convert numpy array to PIL Image\n",
        "    new_image = Image.fromarray(image_data, 'RGB')\n",
        "\n",
        "    # Resize the image to the expected dimensions\n",
        "    new_size_image = new_image.resize((64, 64))  # Adjust as needed\n",
        "\n",
        "    # Convert the image to a numpy array\n",
        "    new_data = np.array(new_size_image)\n",
        "    new_flat_image = new_data.reshape(1, -1)\n",
        "\n",
        "    # Scale and apply PCA transformation (similar to what you did during training)\n",
        "    scaled_new_image = scaler.transform(new_flat_image)  # Assuming 'scaler' is the one used during training\n",
        "    principal_new_image = pca.transform(scaled_new_image)  # Assuming 'pca' is the one used during training\n",
        "\n",
        "    # Make predictions using the loaded model\n",
        "    predictions = loaded_model.predict(principal_new_image)\n",
        "\n",
        "    # Print the predictions\n",
        "    print(\"Predictions:\", predictions)\n",
        "else:\n",
        "    print(\"Size of the remaining data does not match the expected size.\")\n"
      ]
    }
  ],
  "metadata": {
    "colab": {
      "provenance": []
    },
    "kernelspec": {
      "display_name": "Python 3",
      "name": "python3"
    },
    "language_info": {
      "codemirror_mode": {
        "name": "ipython",
        "version": 3
      },
      "file_extension": ".py",
      "mimetype": "text/x-python",
      "name": "python",
      "nbconvert_exporter": "python",
      "pygments_lexer": "ipython3",
      "version": "3.12.3"
    }
  },
  "nbformat": 4,
  "nbformat_minor": 0
}
